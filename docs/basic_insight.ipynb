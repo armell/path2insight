{
 "cells": [
  {
   "cell_type": "markdown",
   "metadata": {},
   "source": [
    "# Basic insight\n",
    "\n",
    "Path2Insight can provide insight in large collections of static file paths. This pages gives a short introduction in gaining basic insight in a collection of file paths. Topics are counting and comparing in file path collections."
   ]
  },
  {
   "cell_type": "code",
   "execution_count": 1,
   "metadata": {
    "nbsphinx": "hidden"
   },
   "outputs": [],
   "source": [
    "# this is a hidden cell\n",
    "\n",
    "%matplotlib inline\n",
    "\n",
    "import matplotlib.pyplot as plt\n",
    "plt.style.use('ggplot')\n",
    "\n",
    "import sys\n",
    "import pandas\n",
    "\n",
    "# small trick to find Path2Insight at the moment\n",
    "sys.path.append(\"../\")"
   ]
  },
  {
   "cell_type": "code",
   "execution_count": 2,
   "metadata": {},
   "outputs": [],
   "source": [
    "import path2insight"
   ]
  },
  {
   "cell_type": "markdown",
   "metadata": {},
   "source": [
    "Path2Insight comes with sample collections of file paths. These collections/datasets were collected from the internet and were publicly available at the time of collection. For the examples on this page, the Ensembl dataset was used. Ensembl is a genome browser for vertebrate genomes. The data can be found at ftp://ftp.ensembl.org/pub/release-90/. The dataset contains 51100 filepaths."
   ]
  },
  {
   "cell_type": "code",
   "execution_count": 3,
   "metadata": {
    "scrolled": false
   },
   "outputs": [],
   "source": [
    "from path2insight.datasets import load_ensembl\n",
    "\n",
    "data = load_ensembl()"
   ]
  },
  {
   "cell_type": "markdown",
   "metadata": {},
   "source": [
    "The object `data` is a list with `PosixFilePath` objects. These `PosixFilePath` objects contain the file paths. The file paths are stored in `PosixFilePath` object because they were collected with a Posix device. To give you an indication of the first filepaths, we output the first 5 elements of the list:"
   ]
  },
  {
   "cell_type": "code",
   "execution_count": 4,
   "metadata": {},
   "outputs": [
    {
     "data": {
      "text/plain": [
       "[PosixFilePath('/Volumes/release-90/README'),\n",
       " PosixFilePath('/Volumes/release-90/xml/ensembl-compara/homologies/README.gene_trees.xml_dumps.txt'),\n",
       " PosixFilePath('/Volumes/release-90/xml/ensembl-compara/homologies/MD5SUM'),\n",
       " PosixFilePath('/Volumes/release-90/xml/ensembl-compara/homologies/Compara.90.protein_murinae.tree.phyloxml.xml.tar.gz'),\n",
       " PosixFilePath('/Volumes/release-90/xml/ensembl-compara/homologies/Compara.90.protein_murinae.tree.orthoxml.xml.tar.gz')]"
      ]
     },
     "execution_count": 4,
     "metadata": {},
     "output_type": "execute_result"
    }
   ],
   "source": [
    "data[:5]"
   ]
  },
  {
   "cell_type": "markdown",
   "metadata": {},
   "source": [
    "## Counting\n",
    "\n",
    "Counting is a very intuitive way to explore all kind of things. The same holds for file paths. In this section, we explore the collection of file paths based on some simple counts like the folder depth, the extension and the stem."
   ]
  },
  {
   "cell_type": "code",
   "execution_count": 5,
   "metadata": {},
   "outputs": [
    {
     "data": {
      "text/plain": [
       "Counter({3: 1, 4: 11, 5: 39424, 6: 5543, 7: 2733, 8: 3388})"
      ]
     },
     "execution_count": 5,
     "metadata": {},
     "output_type": "execute_result"
    }
   ],
   "source": [
    "path2insight.depth_counts(data)"
   ]
  },
  {
   "cell_type": "code",
   "execution_count": 6,
   "metadata": {},
   "outputs": [
    {
     "data": {
      "text/plain": [
       "Counter({3: 1.9569471624266145e-05,\n",
       "         4: 0.00021526418786692759,\n",
       "         5: 0.7715068493150685,\n",
       "         6: 0.10847358121330725,\n",
       "         7: 0.05348336594911937,\n",
       "         8: 0.0663013698630137})"
      ]
     },
     "execution_count": 6,
     "metadata": {},
     "output_type": "execute_result"
    }
   ],
   "source": [
    "path2insight.depth_counts(data, normalize=True)"
   ]
  },
  {
   "cell_type": "markdown",
   "metadata": {},
   "source": [
    "It is easy to visualize the data with matplotlib or pandas:"
   ]
  },
  {
   "cell_type": "code",
   "execution_count": 7,
   "metadata": {},
   "outputs": [
    {
     "data": {
      "text/plain": [
       "<Container object of 6 artists>"
      ]
     },
     "execution_count": 7,
     "metadata": {},
     "output_type": "execute_result"
    },
    {
     "data": {
      "image/png": "[encoded data removed]",
      "text/plain": [
       "<matplotlib.figure.Figure at 0x10d6b66d8>"
      ]
     },
     "metadata": {},
     "output_type": "display_data"
    }
   ],
   "source": [
    "result = path2insight.depth_counts(data)\n",
    "\n",
    "import matplotlib.pyplot as plt\n",
    "plt.bar(*zip(*result.items()))\n",
    "\n",
    "# another option:\n",
    "# pandas.Series(result).plot.bar()"
   ]
  },
  {
   "cell_type": "markdown",
   "metadata": {},
   "source": [
    "One can see that a depth of 5 is very common. Keep in mind that we are starting at 3. The actual number is not so informative, the distribution is. This data server has a very flat distribution of folders and files. "
   ]
  },
  {
   "cell_type": "markdown",
   "metadata": {},
   "source": [
    "It is also easy to compute the mean and variance of the depth. "
   ]
  },
  {
   "cell_type": "code",
   "execution_count": 8,
   "metadata": {},
   "outputs": [
    {
     "name": "stdout",
     "output_type": "stream",
     "text": [
      "5.41409001957\n",
      "0.747942371544\n"
     ]
    }
   ],
   "source": [
    "import numpy\n",
    "\n",
    "depth = [path.depth for path in data]\n",
    "\n",
    "print(numpy.mean(depth))\n",
    "print(numpy.var(depth))"
   ]
  },
  {
   "cell_type": "markdown",
   "metadata": {},
   "source": [
    "Extensions can be very informative. Large research data servers may contain more than hundred different file extensions. From that perspective, the file extension becomes very informative. Path2Insight contains functions to explore file extensions. File extension always start with a dot (.) in the Path2Insight. See Wikipedia for more information about definitions and remarks on filename extensions.  https://en.wikipedia.org/wiki/Filename_extension"
   ]
  },
  {
   "cell_type": "code",
   "execution_count": 9,
   "metadata": {},
   "outputs": [
    {
     "data": {
      "text/plain": [
       "Counter({'': 3094,\n",
       "         '.4_sauropsids_EPO': 1,\n",
       "         '.7_sauropsids_EPO_LOW_COVERAGE': 1,\n",
       "         '.8_primates_EPO': 1,\n",
       "         '.bb': 847,\n",
       "         '.fai': 69,\n",
       "         '.graph': 198,\n",
       "         '.gz': 44427,\n",
       "         '.gzi': 69,\n",
       "         '.maf': 2,\n",
       "         '.md5': 1,\n",
       "         '.nal': 3,\n",
       "         '.nhr': 349,\n",
       "         '.nin': 349,\n",
       "         '.nsq': 349,\n",
       "         '.ova': 1,\n",
       "         '.pdf': 1,\n",
       "         '.phr': 250,\n",
       "         '.pin': 250,\n",
       "         '.psq': 250,\n",
       "         '.sh': 2,\n",
       "         '.tar': 74,\n",
       "         '.tbi': 72,\n",
       "         '.tsv': 336,\n",
       "         '.txt': 102,\n",
       "         '.vcf': 2})"
      ]
     },
     "execution_count": 9,
     "metadata": {},
     "output_type": "execute_result"
    }
   ],
   "source": [
    "path2insight.extension_counts(data)"
   ]
  },
  {
   "cell_type": "markdown",
   "metadata": {},
   "source": [
    "The number of extensions can be large. The functions like `extension_counts` return a python `collections.Counter` object. This object has useful properties and methods like `.most_common()`. Use the following code to output and order the 10 most used extensions:"
   ]
  },
  {
   "cell_type": "code",
   "execution_count": 10,
   "metadata": {},
   "outputs": [
    {
     "data": {
      "text/plain": [
       "[('.gz', 44427),\n",
       " ('', 3094),\n",
       " ('.bb', 847),\n",
       " ('.nsq', 349),\n",
       " ('.nin', 349),\n",
       " ('.nhr', 349),\n",
       " ('.tsv', 336),\n",
       " ('.psq', 250),\n",
       " ('.pin', 250),\n",
       " ('.phr', 250)]"
      ]
     },
     "execution_count": 10,
     "metadata": {},
     "output_type": "execute_result"
    }
   ],
   "source": [
    "path2insight.extension_counts(data).most_common(10)"
   ]
  },
  {
   "cell_type": "markdown",
   "metadata": {},
   "source": [
    "Files can have multiple extensions. The number of extension occurrences is distributed as follows: "
   ]
  },
  {
   "cell_type": "code",
   "execution_count": 11,
   "metadata": {},
   "outputs": [
    {
     "data": {
      "text/plain": [
       "<matplotlib.axes._subplots.AxesSubplot at 0x10d7a0748>"
      ]
     },
     "execution_count": 11,
     "metadata": {},
     "output_type": "execute_result"
    },
    {
     "data": {
      "image/png": "[encoded data removed]",
      "text/plain": [
       "<matplotlib.figure.Figure at 0x1102bb8d0>"
      ]
     },
     "metadata": {},
     "output_type": "display_data"
    }
   ],
   "source": [
    "number_of_extensions_list = [len(path.extensions) for path in data]\n",
    "\n",
    "pandas.Series(number_of_extensions_list).plot.hist()"
   ]
  },
  {
   "cell_type": "markdown",
   "metadata": {},
   "source": [
    "Path2insight can also be used to count other file path properties in file path collections. The following examples show how to count the stem occurrences and tokens. See the API reference for all counters. "
   ]
  },
  {
   "cell_type": "code",
   "execution_count": 12,
   "metadata": {
    "scrolled": false
   },
   "outputs": [
    {
     "data": {
      "text/plain": [
       "[('CHECKSUMS', 2222),\n",
       " ('README', 762),\n",
       " ('meta.txt', 271),\n",
       " ('seq_region.txt', 267),\n",
       " ('meta_coord.txt', 267),\n",
       " ('coord_system.txt', 267),\n",
       " ('external_db.txt', 245),\n",
       " ('analysis_description.txt', 245),\n",
       " ('xref.txt', 244),\n",
       " ('unmapped_reason.txt', 244)]"
      ]
     },
     "execution_count": 12,
     "metadata": {},
     "output_type": "execute_result"
    }
   ],
   "source": [
    "path2insight.stem_counts(data).most_common(10)"
   ]
  },
  {
   "cell_type": "code",
   "execution_count": 13,
   "metadata": {},
   "outputs": [
    {
     "data": {
      "text/plain": [
       "[('checksums', 2222),\n",
       " ('readme', 762),\n",
       " ('meta.txt', 271),\n",
       " ('seq_region.txt', 267),\n",
       " ('meta_coord.txt', 267),\n",
       " ('coord_system.txt', 267),\n",
       " ('external_db.txt', 245),\n",
       " ('analysis_description.txt', 245),\n",
       " ('xref.txt', 244),\n",
       " ('unmapped_reason.txt', 244)]"
      ]
     },
     "execution_count": 13,
     "metadata": {},
     "output_type": "execute_result"
    }
   ],
   "source": [
    "# lowercase stems (no difference in counts)\n",
    "path2insight.stem_counts([path.lower() for path in data]).most_common(10)"
   ]
  },
  {
   "cell_type": "markdown",
   "metadata": {},
   "source": [
    "Counting tokens"
   ]
  },
  {
   "cell_type": "code",
   "execution_count": 14,
   "metadata": {},
   "outputs": [
    {
     "data": {
      "text/plain": [
       "['Volumes',\n",
       " 'release',\n",
       " '90',\n",
       " 'variation',\n",
       " 'vcf',\n",
       " 'mus',\n",
       " 'musculus',\n",
       " 'Mus',\n",
       " 'musculus']"
      ]
     },
     "execution_count": 14,
     "metadata": {},
     "output_type": "execute_result"
    }
   ],
   "source": [
    "data[100].tokenize()"
   ]
  },
  {
   "cell_type": "code",
   "execution_count": 15,
   "metadata": {
    "scrolled": false
   },
   "outputs": [
    {
     "data": {
      "text/plain": [
       "[('txt', 31977),\n",
       " ('gene', 13798),\n",
       " ('ensembl', 12727),\n",
       " ('dm', 12500),\n",
       " ('homolog', 7380),\n",
       " ('fa', 5890),\n",
       " ('chromosome', 5011),\n",
       " ('feature', 4878),\n",
       " ('dna', 4608),\n",
       " ('90', 3404)]"
      ]
     },
     "execution_count": 15,
     "metadata": {},
     "output_type": "execute_result"
    }
   ],
   "source": [
    "path2insight.token_counts(data).most_common(10)"
   ]
  },
  {
   "cell_type": "markdown",
   "metadata": {
    "collapsed": true
   },
   "source": [
    "## Compare collections\n"
   ]
  },
  {
   "cell_type": "code",
   "execution_count": 16,
   "metadata": {},
   "outputs": [],
   "source": [
    "# subset of data\n",
    "data_tetraodon_nigroviridis = path2insight.select(\n",
    "    data, level3='gff3', level4='tetraodon_nigroviridis')\n",
    "\n",
    "# subset of data\n",
    "data_taeniopygia_guttata = path2insight.select(\n",
    "    data, level3='gff3', level4='taeniopygia_guttata')"
   ]
  },
  {
   "cell_type": "markdown",
   "metadata": {},
   "source": [
    "### String similarity\n",
    "In the following example, the two datasets are compared on the string similarity of the file path stem. 0 is completely identical and 1 is completely distinct. It turns out that most of the file stems are partially similar. A few file stems are quite unique and 2 file paths are nearly (or exactly identical)."
   ]
  },
  {
   "cell_type": "code",
   "execution_count": 17,
   "metadata": {
    "scrolled": false
   },
   "outputs": [
    {
     "data": {
      "text/plain": [
       "<matplotlib.axes._subplots.AxesSubplot at 0x1192a20f0>"
      ]
     },
     "execution_count": 17,
     "metadata": {},
     "output_type": "execute_result"
    },
    {
     "data": {
      "image/png": "[encoded data removed]",
      "text/plain": [
       "<matplotlib.figure.Figure at 0x10d7daa58>"
      ]
     },
     "metadata": {},
     "output_type": "display_data"
    }
   ],
   "source": [
    "m = path2insight.levenshtein_distance_stem(\n",
    "    data_tetraodon_nigroviridis, data_taeniopygia_guttata,\n",
    "    normalise=True\n",
    ")\n",
    "\n",
    "import seaborn as sns\n",
    "sns.heatmap(m, vmin=0)"
   ]
  },
  {
   "cell_type": "markdown",
   "metadata": {},
   "source": [
    "### Hypothesis testing\n",
    "\n",
    "Compare file extensions with the Chi-squared test. It turns out that the p-value is 0.0249. "
   ]
  },
  {
   "cell_type": "code",
   "execution_count": 18,
   "metadata": {},
   "outputs": [
    {
     "data": {
      "text/plain": [
       "Power_divergenceResult(statistic=5.0256410256410255, pvalue=0.024974679293054206)"
      ]
     },
     "execution_count": 18,
     "metadata": {},
     "output_type": "execute_result"
    }
   ],
   "source": [
    "path2insight.extension_chisquare(\n",
    "    data_tetraodon_nigroviridis, data_taeniopygia_guttata)"
   ]
  }
 ],
 "metadata": {
  "anaconda-cloud": {},
  "kernelspec": {
   "display_name": "Python 3",
   "language": "python",
   "name": "python3"
  },
  "language_info": {
   "codemirror_mode": {
    "name": "ipython",
    "version": 3
   },
   "file_extension": ".py",
   "mimetype": "text/x-python",
   "name": "python",
   "nbconvert_exporter": "python",
   "pygments_lexer": "ipython3",
   "version": "3.6.3"
  }
 },
 "nbformat": 4,
 "nbformat_minor": 1
}
