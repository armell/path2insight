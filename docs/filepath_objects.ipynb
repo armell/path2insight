{
 "cells": [
  {
   "cell_type": "markdown",
   "metadata": {},
   "source": [
    "# Getting started\n",
    "\n",
    "Each file path in Path2Insight is converted into a [WindowsFilePath](reference.rst#path2insight.WindowsFilePath) or [PosixFilePath](reference.rst#path2insight.PosixFilePath) object. Since Python 3.4, there is a module to analyze and manipulate file paths in Python named [pathlib](https://docs.python.org/3/library/pathlib.html). Path2Insight extends the [PurePath](https://docs.python.org/3/library/pathlib.html#pathlib.PurePath) class in this  module. Path2Insight has the classes [PureWindowsPath](https://docs.python.org/3/library/pathlib.html#pathlib.PureWindowsPath) and [PurePosixPath](https://docs.python.org/3/library/pathlib.html#pathlib.PurePosixPath). These two classes play an important role in the package and are the input of nearly each function. \n",
    "\n",
    "As described before, there are objects for Windows file paths and objects for Posix (Linux, macOS) file paths. This is because the file paths on Windows and Posix are different. A typical (absolute) path in Windows looks like: `K:\\Datasets\\Climate\\dataset_climate_change.csv`. A typical (absolute) path in Linux looks like: `/var/Datasets/Climate/dataset_climate_change.csv`. A typical (absolute) path in macOS looks like: `/Volumes/Datasets/Climate/dataset_climate_change.csv`. Windows file paths start with a drive letter and uses backslashes as separators. Posix file paths use a slash as root and and slashes as separators."
   ]
  },
  {
   "cell_type": "code",
   "execution_count": 1,
   "metadata": {
    "nbsphinx": "hidden"
   },
   "outputs": [],
   "source": [
    "# this is a hidden cell\n",
    "\n",
    "%matplotlib inline\n",
    "\n",
    "import matplotlib.pyplot as plt\n",
    "plt.style.use('ggplot')\n",
    "\n",
    "import sys\n",
    "\n",
    "# small trick to find Path2Insight at the moment\n",
    "sys.path.append(\"../\")"
   ]
  },
  {
   "cell_type": "markdown",
   "metadata": {},
   "source": [
    "## FilePath Objects\n",
    "\n",
    "Load the `path2insight.WindowsFilePath` and `path2insight.PosixFilePath` objects. "
   ]
  },
  {
   "cell_type": "code",
   "execution_count": 2,
   "metadata": {},
   "outputs": [],
   "source": [
    "from path2insight import WindowsFilePath, PosixFilePath"
   ]
  },
  {
   "cell_type": "markdown",
   "metadata": {},
   "source": [
    "Path2Insight provides the possibility to analyze the file path deeply. This can be done by converting the string-type file path into a WindowsFilePath-type or PosixFilePath-type object. One can make a WindowsFilePath object of the string-type file path by passing it as an argument to the class. It is also possible to provide pass the file path in parts. "
   ]
  },
  {
   "cell_type": "code",
   "execution_count": 3,
   "metadata": {},
   "outputs": [
    {
     "name": "stdout",
     "output_type": "stream",
     "text": [
      "K:\\Datasets\\Climate\\dataset_climate_change.csv\n",
      "K:\\Datasets\\Climate\\dataset_climate_change.csv\n"
     ]
    }
   ],
   "source": [
    "print(WindowsFilePath('K:\\Datasets\\Climate\\dataset_climate_change.csv'))\n",
    "print(WindowsFilePath('K:\\\\', 'Datasets', 'Climate', 'dataset_climate_change.csv'))"
   ]
  },
  {
   "cell_type": "markdown",
   "metadata": {},
   "source": [
    "For a Posix type file path, one uses the PosixFilePath class. "
   ]
  },
  {
   "cell_type": "code",
   "execution_count": 4,
   "metadata": {},
   "outputs": [
    {
     "name": "stdout",
     "output_type": "stream",
     "text": [
      "/var/Datasets/Climate/dataset_climate_change.csv\n"
     ]
    }
   ],
   "source": [
    "print(PosixFilePath('/var/Datasets/Climate/dataset_climate_change.csv'))"
   ]
  },
  {
   "cell_type": "markdown",
   "metadata": {},
   "source": [
    "It is also possible to use relative file paths. This is done exactly the same way as with absolute file paths."
   ]
  },
  {
   "cell_type": "code",
   "execution_count": 5,
   "metadata": {},
   "outputs": [
    {
     "name": "stdout",
     "output_type": "stream",
     "text": [
      "Climate\\dataset_climate_change.csv\n",
      "..\\Climate\\dataset_climate_change.csv\n"
     ]
    }
   ],
   "source": [
    "print(WindowsFilePath('Climate', 'dataset_climate_change.csv'))\n",
    "print(WindowsFilePath('..', 'Climate', 'dataset_climate_change.csv'))"
   ]
  },
  {
   "cell_type": "markdown",
   "metadata": {},
   "source": [
    "To convert the WindowsFilePath or PosixFilePath back to "
   ]
  },
  {
   "cell_type": "markdown",
   "metadata": {},
   "source": [
    "## Methods and attributes\n",
    "\n",
    "Converting the file path from a string into a WindowsFilePath or PosixFilePath object gives you large number of functionalities. One can split the file path into parts, get the extensions, lower or upper the stem. See the documentation of [WindowsFilePath](reference.rst#path2insight.WindowsFilePath) and [PosixFilePath](reference.rst#path2insight.PosixFilePath) for all the attributes and methods. The following example shows some of the features. "
   ]
  },
  {
   "cell_type": "code",
   "execution_count": 6,
   "metadata": {},
   "outputs": [],
   "source": [
    "path = WindowsFilePath('K:\\Datasets\\Climate\\dataset_climate_change.csv')\n",
    "path.parts\n",
    "# ('K:\\\\', 'Datasets', 'Climate', 'dataset_climate_change.csv')\n",
    "path.drive\n",
    "# 'K:'\n",
    "path.lower()\n",
    "# WindowsFilePath('k:/datasets/climate/dataset_climate_change.csv')\n",
    "path.stem\n",
    "# 'dataset_climate_change'\n",
    "path.extension\n",
    "# '.csv'\n",
    "path.upper_stem()\n",
    "# WindowsFilePath('K:/Datasets/Climate/DATASET_CLIMATE_CHANGE.csv')\n",
    "path.name\n",
    "# 'dataset_climate_change.csv'\n",
    "path.name.upper();\n",
    "# 'DATASET_CLIMATE_CHANGE.csv'"
   ]
  },
  {
   "cell_type": "markdown",
   "metadata": {},
   "source": [
    "Note that some of the methods do return a WindowsFilePath object while other do not. It depends on your application what the preferred method is. Take a look at the following two examples:"
   ]
  },
  {
   "cell_type": "code",
   "execution_count": 7,
   "metadata": {},
   "outputs": [
    {
     "data": {
      "text/plain": [
       "'k:\\\\datasets\\\\climate\\\\dataset_climate_change.csv'"
      ]
     },
     "execution_count": 7,
     "metadata": {},
     "output_type": "execute_result"
    }
   ],
   "source": [
    "str(path).lower()"
   ]
  },
  {
   "cell_type": "code",
   "execution_count": 8,
   "metadata": {},
   "outputs": [
    {
     "data": {
      "text/plain": [
       "'k:\\\\datasets\\\\climate\\\\dataset_climate_change.csv'"
      ]
     },
     "execution_count": 8,
     "metadata": {},
     "output_type": "execute_result"
    }
   ],
   "source": [
    "str(path.lower())"
   ]
  },
  {
   "cell_type": "markdown",
   "metadata": {},
   "source": [
    "They look the same, but the first one is a string while the second one is a WindowsFilePath object (see the cell below)."
   ]
  },
  {
   "cell_type": "code",
   "execution_count": 9,
   "metadata": {},
   "outputs": [
    {
     "name": "stdout",
     "output_type": "stream",
     "text": [
      "<class 'str'>\n",
      "<class 'path2insight.core.WindowsFilePath'>\n"
     ]
    }
   ],
   "source": [
    "print(type(str(path).lower()))\n",
    "print(type(path.lower()))"
   ]
  },
  {
   "cell_type": "markdown",
   "metadata": {},
   "source": [
    "The same for the when using parts. See below:"
   ]
  },
  {
   "cell_type": "code",
   "execution_count": 10,
   "metadata": {},
   "outputs": [
    {
     "data": {
      "text/plain": [
       "('k:\\\\', 'datasets', 'climate', 'dataset_climate_change.csv')"
      ]
     },
     "execution_count": 10,
     "metadata": {},
     "output_type": "execute_result"
    }
   ],
   "source": [
    "# the following line return a tuple with parts\n",
    "path.lower().parts\n",
    "# ('k:\\\\', 'datasets', 'climate', 'dataset_climate_change.csv')"
   ]
  },
  {
   "cell_type": "code",
   "execution_count": 11,
   "metadata": {},
   "outputs": [
    {
     "ename": "AttributeError",
     "evalue": "'str' object has no attribute 'parts'",
     "output_type": "error",
     "traceback": [
      "\u001b[0;31m---------------------------------------------------------------------------\u001b[0m",
      "\u001b[0;31mAttributeError\u001b[0m                            Traceback (most recent call last)",
      "\u001b[0;32m<ipython-input-11-37be527e591a>\u001b[0m in \u001b[0;36m<module>\u001b[0;34m()\u001b[0m\n\u001b[1;32m      1\u001b[0m \u001b[0;31m# while the following raises an error\u001b[0m\u001b[0;34m\u001b[0m\u001b[0;34m\u001b[0m\u001b[0m\n\u001b[0;32m----> 2\u001b[0;31m \u001b[0;34m'K:\\Datasets\\Climate\\dataset_climate_change.csv'\u001b[0m\u001b[0;34m.\u001b[0m\u001b[0mlower\u001b[0m\u001b[0;34m(\u001b[0m\u001b[0;34m)\u001b[0m\u001b[0;34m.\u001b[0m\u001b[0mparts\u001b[0m\u001b[0;34m\u001b[0m\u001b[0m\n\u001b[0m",
      "\u001b[0;31mAttributeError\u001b[0m: 'str' object has no attribute 'parts'"
     ]
    }
   ],
   "source": [
    "# while the following raises an error\n",
    "'K:\\Datasets\\Climate\\dataset_climate_change.csv'.lower().parts"
   ]
  },
  {
   "cell_type": "markdown",
   "metadata": {},
   "source": [
    "There is a growing list of methods available for the WindowsFilePath and PosixFilePath objects. At the moment, nearly all methods and attributes available in the WindowsFilePath object are also available in the PosixFilePath class. The FilePath objects inherit methods and attributes from the [PurePath object](https://docs.python.org/3/library/pathlib.html#pure-paths) of the [pathlib](https://docs.python.org/3/library/pathlib.html) module (new in Python 3.4). See DOCUMENTATION_LINK for the reference for WindowsFilePath and PosixFilePath.\n"
   ]
  },
  {
   "cell_type": "markdown",
   "metadata": {},
   "source": [
    "## Collections of file paths\n",
    "The previous section shows how to extract information from a single file path. Path2Insight is optimized to analyze large collections of file paths. One can analyze collections by using **list comprehensions**. The Python documentation has a clear section about this topic which you can find [here](https://docs.python.org/3/tutorial/datastructures.html#list-comprehensions). Path2Insight follows the Natural Language Toolkit (NLTK) with this API structure. \n",
    "\n",
    "For this section we use a the following data: "
   ]
  },
  {
   "cell_type": "code",
   "execution_count": 12,
   "metadata": {},
   "outputs": [],
   "source": [
    "from path2insight import WindowsFilePath, PosixFilePath\n",
    "\n",
    "import path2insight\n",
    "\n",
    "paths = [\n",
    "    'K:\\Datasets\\Climate\\dataset_climate_change.csv', \n",
    "    'K:\\Datasets\\Climate\\dataset_energy_consumption.csv', \n",
    "    'K:\\Datasets\\Climate\\dataset_energy_consumption.xlsx', \n",
    "    'K:\\Datasets\\Climate\\climate_change.py', \n",
    "    'K:\\Datasets\\Climate\\README'\n",
    "]"
   ]
  },
  {
   "cell_type": "markdown",
   "metadata": {},
   "source": [
    "The first step is to convert the list of file paths into WindowsFilePath objects. This is done with a list comprehension (see cell below) or with the parse function in `path2insight.parse(windows_paths, 'windows')`. "
   ]
  },
  {
   "cell_type": "code",
   "execution_count": 13,
   "metadata": {},
   "outputs": [
    {
     "data": {
      "text/plain": [
       "[WindowsFilePath('K:/Datasets/Climate/dataset_climate_change.csv'),\n",
       " WindowsFilePath('K:/Datasets/Climate/dataset_energy_consumption.csv'),\n",
       " WindowsFilePath('K:/Datasets/Climate/dataset_energy_consumption.xlsx'),\n",
       " WindowsFilePath('K:/Datasets/Climate/climate_change.py'),\n",
       " WindowsFilePath('K:/Datasets/Climate/README')]"
      ]
     },
     "execution_count": 13,
     "metadata": {},
     "output_type": "execute_result"
    }
   ],
   "source": [
    "windows_paths = [WindowsFilePath(path) for path in paths]\n",
    "windows_paths"
   ]
  },
  {
   "cell_type": "markdown",
   "metadata": {},
   "source": [
    "By using list-comprehensions, one can extract information from the file paths. For example, extract the extension for each path:"
   ]
  },
  {
   "cell_type": "code",
   "execution_count": 14,
   "metadata": {},
   "outputs": [
    {
     "data": {
      "text/plain": [
       "['.csv', '.csv', '.xlsx', '.py', '']"
      ]
     },
     "execution_count": 14,
     "metadata": {},
     "output_type": "execute_result"
    }
   ],
   "source": [
    "[path.extension for path in windows_paths]"
   ]
  },
  {
   "cell_type": "markdown",
   "metadata": {},
   "source": [
    "Or a more advanced example where the tokens of the file path stems are collected:"
   ]
  },
  {
   "cell_type": "code",
   "execution_count": 15,
   "metadata": {},
   "outputs": [
    {
     "data": {
      "text/plain": [
       "['dataset',\n",
       " 'climate',\n",
       " 'change',\n",
       " 'dataset',\n",
       " 'energy',\n",
       " 'consumption',\n",
       " 'dataset',\n",
       " 'energy',\n",
       " 'consumption',\n",
       " 'climate',\n",
       " 'change',\n",
       " 'README']"
      ]
     },
     "execution_count": 15,
     "metadata": {},
     "output_type": "execute_result"
    }
   ],
   "source": [
    "[token for path in windows_paths for token in path.tokenize_stem()]"
   ]
  },
  {
   "cell_type": "markdown",
   "metadata": {},
   "source": [
    "One can use the power of Python's Counter class to count the tokens. "
   ]
  },
  {
   "cell_type": "code",
   "execution_count": 16,
   "metadata": {},
   "outputs": [
    {
     "data": {
      "text/plain": [
       "Counter({'README': 1,\n",
       "         'change': 2,\n",
       "         'climate': 2,\n",
       "         'consumption': 2,\n",
       "         'dataset': 3,\n",
       "         'energy': 2})"
      ]
     },
     "execution_count": 16,
     "metadata": {},
     "output_type": "execute_result"
    }
   ],
   "source": [
    "from collections import Counter\n",
    "\n",
    "Counter([token for path in windows_paths for token in path.tokenize_stem()])"
   ]
  },
  {
   "cell_type": "markdown",
   "metadata": {},
   "source": [
    "## Selecting, sampling and sorting file paths\n",
    "Path2Insight contains functions to handle collections of file paths (stored in lists). These functions make it easy to subset and select parts of the data. In this section shows some examples on using the file path handling functions. The functions described in this section cover sampling, subsetting and sorting. \n",
    "\n",
    "First, load the demo dataset Ensembl"
   ]
  },
  {
   "cell_type": "code",
   "execution_count": 17,
   "metadata": {},
   "outputs": [
    {
     "data": {
      "text/plain": [
       "[PosixFilePath('/Volumes/release-90/README'),\n",
       " PosixFilePath('/Volumes/release-90/xml/ensembl-compara/homologies/README.gene_trees.xml_dumps.txt'),\n",
       " PosixFilePath('/Volumes/release-90/xml/ensembl-compara/homologies/MD5SUM'),\n",
       " PosixFilePath('/Volumes/release-90/xml/ensembl-compara/homologies/Compara.90.protein_murinae.tree.phyloxml.xml.tar.gz'),\n",
       " PosixFilePath('/Volumes/release-90/xml/ensembl-compara/homologies/Compara.90.protein_murinae.tree.orthoxml.xml.tar.gz')]"
      ]
     },
     "execution_count": 17,
     "metadata": {},
     "output_type": "execute_result"
    }
   ],
   "source": [
    "from path2insight.datasets import load_ensembl\n",
    "\n",
    "data = load_ensembl()\n",
    "data[:5]"
   ]
  },
  {
   "cell_type": "code",
   "execution_count": 18,
   "metadata": {},
   "outputs": [
    {
     "data": {
      "text/plain": [
       "[PosixFilePath('/Volumes/release-90/mysql/ensembl_mart_90/lafricana_gene_ensembl__homolog_jjaculus__dm.txt.gz'),\n",
       " PosixFilePath('/Volumes/release-90/mysql/ensembl_mart_90/gmorhua_gene_ensembl__homolog_tguttata__dm.txt.gz'),\n",
       " PosixFilePath('/Volumes/release-90/mysql/ensembl_mart_90/mspreteij_gene_ensembl__homolog_oprinceps__dm.txt.gz'),\n",
       " PosixFilePath('/Volumes/release-90/mysql/ensembl_mart_90/ttruncatus_gene_ensembl__protein_feature_prints__dm.txt.gz'),\n",
       " PosixFilePath('/Volumes/release-90/gff3/mus_caroli/Mus_caroli.CAROLI_EIJ_v1.1.90.chr.gff3.gz')]"
      ]
     },
     "execution_count": 18,
     "metadata": {},
     "output_type": "execute_result"
    }
   ],
   "source": [
    "# sample 5 paths from the data\n",
    "path2insight.sample(data, 5)"
   ]
  },
  {
   "cell_type": "code",
   "execution_count": 19,
   "metadata": {},
   "outputs": [
    {
     "data": {
      "text/plain": [
       "[PosixFilePath('/Volumes/release-90/fasta/xiphophorus_maculatus/dna/Xiphophorus_maculatus.Xipmac4.4.2.dna_sm.toplevel.fa.gz'),\n",
       " PosixFilePath('/Volumes/release-90/fasta/xiphophorus_maculatus/dna/Xiphophorus_maculatus.Xipmac4.4.2.dna_sm.nonchromosomal.fa.gz'),\n",
       " PosixFilePath('/Volumes/release-90/fasta/xiphophorus_maculatus/dna/Xiphophorus_maculatus.Xipmac4.4.2.dna_rm.toplevel.fa.gz'),\n",
       " PosixFilePath('/Volumes/release-90/fasta/xiphophorus_maculatus/dna/Xiphophorus_maculatus.Xipmac4.4.2.dna_rm.nonchromosomal.fa.gz'),\n",
       " PosixFilePath('/Volumes/release-90/fasta/xiphophorus_maculatus/dna/Xiphophorus_maculatus.Xipmac4.4.2.dna.toplevel.fa.gz')]"
      ]
     },
     "execution_count": 19,
     "metadata": {},
     "output_type": "execute_result"
    }
   ],
   "source": [
    "# make a subset of paths with 'fasta' as the third level and 'dna' as the fifth level.\n",
    "data_subset = path2insight.select(data, level3='fasta', level5='dna')\n",
    "data_subset[:5]"
   ]
  },
  {
   "cell_type": "code",
   "execution_count": 20,
   "metadata": {},
   "outputs": [],
   "source": [
    "# default list sort method works also for the WindowsFilePath \n",
    "# and PosixFilePath objects. This method sorts the data inplace.\n",
    "data.sort()"
   ]
  },
  {
   "cell_type": "code",
   "execution_count": 21,
   "metadata": {},
   "outputs": [
    {
     "data": {
      "text/plain": [
       "[PosixFilePath('/Volumes/release-90/README'),\n",
       " PosixFilePath('/Volumes/release-90/fasta/ciona_savignyi/dna_index/CHECKSUMS'),\n",
       " PosixFilePath('/Volumes/release-90/fasta/ciona_savignyi/dna_index/Ciona_savignyi.CSAV2.0.dna.toplevel.fa.gz'),\n",
       " PosixFilePath('/Volumes/release-90/fasta/ciona_savignyi/dna_index/Ciona_savignyi.CSAV2.0.dna.toplevel.fa.gz.fai'),\n",
       " PosixFilePath('/Volumes/release-90/fasta/ciona_savignyi/dna_index/Ciona_savignyi.CSAV2.0.dna.toplevel.fa.gz.gzi')]"
      ]
     },
     "execution_count": 21,
     "metadata": {},
     "output_type": "execute_result"
    }
   ],
   "source": [
    "# same as data.sort() but not inplace\n",
    "data_sorted = path2insight.sort(data)\n",
    "data_sorted[:5]"
   ]
  },
  {
   "cell_type": "markdown",
   "metadata": {},
   "source": [
    "In the following example, the data is sorted on level 5 first and level 4 second. "
   ]
  },
  {
   "cell_type": "code",
   "execution_count": 22,
   "metadata": {},
   "outputs": [
    {
     "data": {
      "text/plain": [
       "[PosixFilePath('/Volumes/release-90/README'),\n",
       " PosixFilePath('/Volumes/release-90/gff3/ailuropoda_melanoleuca/Ailuropoda_melanoleuca.ailMel1.90.abinitio.gff3.gz'),\n",
       " PosixFilePath('/Volumes/release-90/gtf/ailuropoda_melanoleuca/Ailuropoda_melanoleuca.ailMel1.90.abinitio.gtf.gz'),\n",
       " PosixFilePath('/Volumes/release-90/tsv/ailuropoda_melanoleuca/Ailuropoda_melanoleuca.ailMel1.90.ena.tsv.gz'),\n",
       " PosixFilePath('/Volumes/release-90/tsv/ailuropoda_melanoleuca/Ailuropoda_melanoleuca.ailMel1.90.entrez.tsv.gz')]"
      ]
     },
     "execution_count": 22,
     "metadata": {},
     "output_type": "execute_result"
    }
   ],
   "source": [
    "data_sorted_advanced = path2insight.sort(data, level=[5, 4])\n",
    "data_sorted_advanced[:5]"
   ]
  }
 ],
 "metadata": {
  "anaconda-cloud": {},
  "kernelspec": {
   "display_name": "Python 3",
   "language": "python",
   "name": "python3"
  },
  "language_info": {
   "codemirror_mode": {
    "name": "ipython",
    "version": 3
   },
   "file_extension": ".py",
   "mimetype": "text/x-python",
   "name": "python",
   "nbconvert_exporter": "python",
   "pygments_lexer": "ipython3",
   "version": "3.6.3"
  }
 },
 "nbformat": 4,
 "nbformat_minor": 1
}
